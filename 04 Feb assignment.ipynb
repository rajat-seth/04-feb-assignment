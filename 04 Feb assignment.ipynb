{
 "cells": [
  {
   "cell_type": "markdown",
   "id": "daa074a8-1f3d-47c8-983d-afa01a8c9971",
   "metadata": {},
   "source": [
    "Q1)"
   ]
  },
  {
   "cell_type": "code",
   "execution_count": 45,
   "id": "c5af06d0-b553-4bf0-b1d6-ecf1f5014102",
   "metadata": {},
   "outputs": [],
   "source": [
    "list1=[('sachin tendulkar',34357),('ricky ponting',27483),('jack kallis',25534),('virat kohli',24936)]"
   ]
  },
  {
   "cell_type": "code",
   "execution_count": 46,
   "id": "3f3a7502-36ff-4595-b9ea-92fcf28e7e64",
   "metadata": {},
   "outputs": [],
   "source": [
    "list1.sort(key=lambda x:x[1])"
   ]
  },
  {
   "cell_type": "code",
   "execution_count": 47,
   "id": "53db83c5-8f08-417a-b803-3ea84e6880be",
   "metadata": {},
   "outputs": [
    {
     "data": {
      "text/plain": [
       "[('virat kohli', 24936),\n",
       " ('jack kallis', 25534),\n",
       " ('ricky ponting', 27483),\n",
       " ('sachin tendulkar', 34357)]"
      ]
     },
     "execution_count": 47,
     "metadata": {},
     "output_type": "execute_result"
    }
   ],
   "source": [
    "list1"
   ]
  },
  {
   "cell_type": "markdown",
   "id": "87633b33-6842-472e-9ad6-663801550bbf",
   "metadata": {},
   "source": [
    "Q2)"
   ]
  },
  {
   "cell_type": "code",
   "execution_count": 12,
   "id": "58494ca5-af74-41e3-b396-900acaea408b",
   "metadata": {},
   "outputs": [],
   "source": [
    "l1=[1,2,3,4,5,6,7,8,9,10]"
   ]
  },
  {
   "cell_type": "code",
   "execution_count": 13,
   "id": "177c9b23-ca67-46d2-a651-48a0abda1929",
   "metadata": {},
   "outputs": [
    {
     "data": {
      "text/plain": [
       "[1, 4, 9, 16, 25, 36, 49, 64, 81, 100]"
      ]
     },
     "execution_count": 13,
     "metadata": {},
     "output_type": "execute_result"
    }
   ],
   "source": [
    "list(map(lambda x : x**2,l1))"
   ]
  },
  {
   "cell_type": "markdown",
   "id": "92d85d0e-c167-4824-97a7-65f16a58a5fe",
   "metadata": {},
   "source": [
    "Q3)"
   ]
  },
  {
   "cell_type": "code",
   "execution_count": 14,
   "id": "0abaa233-cb36-42c8-89b1-9cc6b353c706",
   "metadata": {},
   "outputs": [],
   "source": [
    "s1=[1,2,3,4,5,6,7,8,9,10]"
   ]
  },
  {
   "cell_type": "code",
   "execution_count": 44,
   "id": "b7751ed9-afb9-4d8a-8f77-e94449f938d9",
   "metadata": {},
   "outputs": [
    {
     "data": {
      "text/plain": [
       "['x', 'x', 'x', 'x', 'x', 'x', 'x', 'x', 'x', 'x']"
      ]
     },
     "execution_count": 44,
     "metadata": {},
     "output_type": "execute_result"
    }
   ],
   "source": [
    "list(map(lambda x:\"x\",s1))"
   ]
  },
  {
   "cell_type": "markdown",
   "id": "00214e9b-be5b-4516-be37-936a18f0d07f",
   "metadata": {},
   "source": [
    "Q4)"
   ]
  },
  {
   "cell_type": "code",
   "execution_count": 25,
   "id": "38f8a69e-af5c-4d99-8f8d-d35f349946da",
   "metadata": {},
   "outputs": [],
   "source": [
    "from functools import reduce"
   ]
  },
  {
   "cell_type": "code",
   "execution_count": 26,
   "id": "9030c222-eeee-4e49-a065-a46bae63f359",
   "metadata": {},
   "outputs": [],
   "source": [
    "l1=[1,2,3,4,5,6,7,8,9,10,11,12,13,14,15,16,17,18,19,20,21,22,23,24,25]"
   ]
  },
  {
   "cell_type": "code",
   "execution_count": 27,
   "id": "e63e3851-6cc9-4360-b8a4-19929a01c881",
   "metadata": {},
   "outputs": [
    {
     "data": {
      "text/plain": [
       "325"
      ]
     },
     "execution_count": 27,
     "metadata": {},
     "output_type": "execute_result"
    }
   ],
   "source": [
    "reduce(lambda x,y:x+y,l1)"
   ]
  },
  {
   "cell_type": "markdown",
   "id": "33da8d5e-db83-4e83-84a7-454eb47dd7e2",
   "metadata": {},
   "source": [
    "Q5)"
   ]
  },
  {
   "cell_type": "code",
   "execution_count": 28,
   "id": "6bc5f984-2c37-40b4-9f9d-df2e830a1742",
   "metadata": {},
   "outputs": [],
   "source": [
    "l=[2,3,6,9,27,60,90,120,55,46]"
   ]
  },
  {
   "cell_type": "code",
   "execution_count": 30,
   "id": "835e42f5-c0da-4246-8b2f-1608eaae7f24",
   "metadata": {},
   "outputs": [
    {
     "data": {
      "text/plain": [
       "[6, 60, 90, 120]"
      ]
     },
     "execution_count": 30,
     "metadata": {},
     "output_type": "execute_result"
    }
   ],
   "source": [
    "list(filter(lambda x : x%2==0 and x%3==0,l))"
   ]
  },
  {
   "cell_type": "markdown",
   "id": "6667d92c-6fbf-4690-90b4-a5c32a23b12f",
   "metadata": {},
   "source": [
    "Q6)"
   ]
  },
  {
   "cell_type": "code",
   "execution_count": 32,
   "id": "351eb3bc-fd7c-43d6-89a4-b8d6f5c3c0b9",
   "metadata": {},
   "outputs": [],
   "source": [
    "l2=['python','php','aba','radar','level']"
   ]
  },
  {
   "cell_type": "code",
   "execution_count": 40,
   "id": "ca4747d6-71f6-47d6-9dde-ac2078abe571",
   "metadata": {},
   "outputs": [
    {
     "data": {
      "text/plain": [
       "['php', 'aba', 'radar', 'level']"
      ]
     },
     "execution_count": 40,
     "metadata": {},
     "output_type": "execute_result"
    }
   ],
   "source": [
    "list(filter(lambda x : (x== \"\".join(reversed(x))),l2))"
   ]
  },
  {
   "cell_type": "code",
   "execution_count": null,
   "id": "b747cbc2-d8eb-4f54-bcf7-844302048334",
   "metadata": {},
   "outputs": [],
   "source": []
  }
 ],
 "metadata": {
  "kernelspec": {
   "display_name": "Python 3 (ipykernel)",
   "language": "python",
   "name": "python3"
  },
  "language_info": {
   "codemirror_mode": {
    "name": "ipython",
    "version": 3
   },
   "file_extension": ".py",
   "mimetype": "text/x-python",
   "name": "python",
   "nbconvert_exporter": "python",
   "pygments_lexer": "ipython3",
   "version": "3.10.8"
  }
 },
 "nbformat": 4,
 "nbformat_minor": 5
}
